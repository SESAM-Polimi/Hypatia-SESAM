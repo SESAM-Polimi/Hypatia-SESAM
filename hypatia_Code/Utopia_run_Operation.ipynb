{
 "cells": [
  {
   "cell_type": "code",
   "execution_count": null,
   "id": "a804b278",
   "metadata": {},
   "outputs": [],
   "source": [
    "\"\"\"\n",
    "Utopia MODEL\n",
    "Operation Mode\n",
    "\"\"\"\n",
    "\n",
    "from hypatia import Model\n",
    "import os\n",
    "from hypatia import Merge_results\n",
    "from hypatia import Plotter"
   ]
  },
  {
   "cell_type": "code",
   "execution_count": null,
   "id": "571cd856",
   "metadata": {},
   "outputs": [],
   "source": [
    "Utopia = Model(path=\"examples/Operation/sets_operation\", mode=\"Operation\")"
   ]
  },
  {
   "cell_type": "code",
   "execution_count": null,
   "id": "51c279a1",
   "metadata": {},
   "outputs": [],
   "source": [
    "Utopia.create_data_excels(\n",
    "    path ='examples\\parameters_operation',\n",
    "    force_rewrite=True\n",
    ")"
   ]
  },
  {
   "cell_type": "code",
   "execution_count": null,
   "id": "2d080242",
   "metadata": {},
   "outputs": [],
   "source": [
    "Utopia.read_input_data(\"examples\\Operation\\parameters_operation\")"
   ]
  },
  {
   "cell_type": "code",
   "execution_count": null,
   "id": "6d8951e4",
   "metadata": {},
   "outputs": [],
   "source": [
    "Utopia.run(solver='gurobi',verbosity=True, force_rewrite= True)"
   ]
  },
  {
   "cell_type": "code",
   "execution_count": null,
   "id": "91505f50",
   "metadata": {},
   "outputs": [],
   "source": [
    "os.mkdir(\"examples/Planning/results2/\")"
   ]
  },
  {
   "cell_type": "code",
   "execution_count": null,
   "id": "5127b448",
   "metadata": {},
   "outputs": [],
   "source": [
    "Utopia.to_csv(path='examples/Operation/results_operation', force_rewrite=True, postprocessing_module=\"aggregated\")"
   ]
  },
  {
   "cell_type": "code",
   "execution_count": null,
   "id": "e1242e66",
   "metadata": {},
   "outputs": [],
   "source": [
    "Utopia.create_config_file(\n",
    "  path = 'examples/Operation/config_operation.xlsx'\n",
    ")"
   ]
  },
  {
   "cell_type": "code",
   "execution_count": null,
   "id": "2ce248b9",
   "metadata": {},
   "outputs": [],
   "source": [
    "plots = Plotter(\n",
    "  results = Utopia,\n",
    "  config = 'examples/Operation/config_operation.xlsx',\n",
    "  hourly_resolution = True, # if model has an hourly resultion otherwise False\n",
    ")"
   ]
  },
  {
   "cell_type": "code",
   "execution_count": null,
   "id": "13c5a726",
   "metadata": {},
   "outputs": [],
   "source": [
    "plots.plot_total_capacity(\n",
    "    path = 'examples/Operation/plots_operation/totalcapacity.html',\n",
    "    tech_group = 'Power Generation',\n",
    "    kind=\"bar\",\n",
    "    decom_cap=True,\n",
    ")"
   ]
  },
  {
   "cell_type": "code",
   "execution_count": null,
   "id": "f12d18de",
   "metadata": {},
   "outputs": [],
   "source": [
    "plots.plot_prod_by_tech(\n",
    "    path = 'examples/Operation/plots_operation/prod_by_tech.html',\n",
    "    tech_group = 'Power Generation',\n",
    "    kind=\"bar\",\n",
    ")"
   ]
  },
  {
   "cell_type": "code",
   "execution_count": null,
   "id": "bb6a1d03",
   "metadata": {},
   "outputs": [],
   "source": [
    "plots.plot_use_by_technology(\n",
    "    path = 'examples/Operation/plots_operation/use_by_tech.html',\n",
    "    fuel_group = 'Oil',\n",
    "    kind=\"bar\",\n",
    ")"
   ]
  },
  {
   "cell_type": "code",
   "execution_count": null,
   "id": "27358fa5",
   "metadata": {},
   "outputs": [],
   "source": [
    "plots.plot_fuel_prod_cons(\n",
    "    path = 'examples/Operation/plots_operation/prod_con_share.html',\n",
    "    years = [\"Y0\"],\n",
    "    fuel_group = 'Electricity',\n",
    "    trade=False,\n",
    ")"
   ]
  },
  {
   "cell_type": "code",
   "execution_count": null,
   "id": "f7375872",
   "metadata": {},
   "outputs": [],
   "source": [
    "plots.plot_emissions(\n",
    "    path = 'examples/Operation/plots_operation/emissions.html',\n",
    "    tech_group = 'Power Generation',\n",
    "    emission_type = [\"CO2 emissions\"],\n",
    "    kind=\"bar\",\n",
    "    aggregate=False\n",
    ")"
   ]
  },
  {
   "cell_type": "code",
   "execution_count": null,
   "id": "8db6d9c1",
   "metadata": {},
   "outputs": [],
   "source": [
    "plots.plot_hourly_prod_by_tech(\n",
    "    path = 'examples/Operation/plots_operation/hourlyprod.html',\n",
    "    tech_group = 'Power Generation',\n",
    "    fuel_group = 'Electricity',\n",
    "    kind = \"bar\",\n",
    "    year = [\"Y0\"],\n",
    "    start=\"01-01 00:00:00\",\n",
    "    end=\"01-01 23:00:00\",\n",
    ")"
   ]
  },
  {
   "cell_type": "code",
   "execution_count": null,
   "id": "2a3cdeb4",
   "metadata": {},
   "outputs": [],
   "source": [
    "plots.plot_regional_costs(\n",
    "    path = 'examples/Operation/plots_operation/regionalcosts_bytechs.html',\n",
    "    stacked_by = 'techs'\n",
    ")"
   ]
  }
 ],
 "metadata": {
  "kernelspec": {
   "display_name": "hypatia",
   "language": "python",
   "name": "python3"
  },
  "language_info": {
   "codemirror_mode": {
    "name": "ipython",
    "version": 3
   },
   "file_extension": ".py",
   "mimetype": "text/x-python",
   "name": "python",
   "nbconvert_exporter": "python",
   "pygments_lexer": "ipython3",
   "version": "3.8.16"
  },
  "vscode": {
   "interpreter": {
    "hash": "3d114b0f206991887c37ed39d850859ee617a2c6c26599d5e115fa9549d96a04"
   }
  }
 },
 "nbformat": 4,
 "nbformat_minor": 5
}
